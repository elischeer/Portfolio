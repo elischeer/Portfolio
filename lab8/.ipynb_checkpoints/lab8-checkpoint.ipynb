{
 "cells": [
  {
   "cell_type": "code",
   "execution_count": 1,
   "id": "31c9b1d4",
   "metadata": {},
   "outputs": [],
   "source": [
    "import pandas as pd\n",
    "import csv"
   ]
  },
  {
   "cell_type": "code",
   "execution_count": 2,
   "id": "14108603",
   "metadata": {},
   "outputs": [],
   "source": [
    "df = pd.read_csv('tranco_Y5G4G.csv')"
   ]
  },
  {
   "cell_type": "code",
   "execution_count": 3,
   "id": "f082ea77",
   "metadata": {},
   "outputs": [
    {
     "data": {
      "text/plain": [
       "<bound method DataFrame.info of               1             google.com\n",
       "0             2           facebook.com\n",
       "1             3           a-msedge.net\n",
       "2             4            youtube.com\n",
       "3             5          microsoft.com\n",
       "4             6          amazonaws.com\n",
       "...         ...                    ...\n",
       "999994   999996           santosha.com\n",
       "999995   999997        themagicbag.com\n",
       "999996   999998       gevorahotels.com\n",
       "999997   999999  betterwphosting.co.uk\n",
       "999998  1000000           4carisma.com\n",
       "\n",
       "[999999 rows x 2 columns]>"
      ]
     },
     "execution_count": 3,
     "metadata": {},
     "output_type": "execute_result"
    }
   ],
   "source": [
    "df.info"
   ]
  },
  {
   "cell_type": "code",
   "execution_count": 4,
   "id": "9779b695",
   "metadata": {},
   "outputs": [
    {
     "data": {
      "text/plain": [
       "<bound method NDFrame.head of               1             google.com\n",
       "0             2           facebook.com\n",
       "1             3           a-msedge.net\n",
       "2             4            youtube.com\n",
       "3             5          microsoft.com\n",
       "4             6          amazonaws.com\n",
       "...         ...                    ...\n",
       "999994   999996           santosha.com\n",
       "999995   999997        themagicbag.com\n",
       "999996   999998       gevorahotels.com\n",
       "999997   999999  betterwphosting.co.uk\n",
       "999998  1000000           4carisma.com\n",
       "\n",
       "[999999 rows x 2 columns]>"
      ]
     },
     "execution_count": 4,
     "metadata": {},
     "output_type": "execute_result"
    }
   ],
   "source": [
    "df.head"
   ]
  },
  {
   "cell_type": "code",
   "execution_count": 6,
   "id": "5762ab0f",
   "metadata": {},
   "outputs": [],
   "source": [
    "df2 = df.head(100)"
   ]
  },
  {
   "cell_type": "code",
   "execution_count": 7,
   "id": "6a16c682",
   "metadata": {},
   "outputs": [
    {
     "data": {
      "text/plain": [
       "<bound method DataFrame.info of       1     google.com\n",
       "0     2   facebook.com\n",
       "1     3   a-msedge.net\n",
       "2     4    youtube.com\n",
       "3     5  microsoft.com\n",
       "4     6  amazonaws.com\n",
       "..  ...            ...\n",
       "95   97       ebay.com\n",
       "96   98  google.com.hk\n",
       "97   99    nytimes.com\n",
       "98  100     fandom.com\n",
       "99  101    dropbox.com\n",
       "\n",
       "[100 rows x 2 columns]>"
      ]
     },
     "execution_count": 7,
     "metadata": {},
     "output_type": "execute_result"
    }
   ],
   "source": [
    "df2.info"
   ]
  },
  {
   "cell_type": "code",
   "execution_count": 8,
   "id": "4de64452",
   "metadata": {},
   "outputs": [
    {
     "data": {
      "text/plain": [
       "<bound method DataFrame.info of     GlobalRank  TldRank                Domain  TLD  RefSubNets   RefIPs  \\\n",
       "0            1        1            google.com  com      493225  2423262   \n",
       "1            2        2          facebook.com  com      491991  2576708   \n",
       "2            3        3           youtube.com  com      443833  2089772   \n",
       "3            4        4           twitter.com  com      437495  2073037   \n",
       "4            5        5         instagram.com  com      375641  1733941   \n",
       "..         ...      ...                   ...  ...         ...      ...   \n",
       "95          96       66  youtube-nocookie.com  com       84737   208923   \n",
       "96          97       67             nginx.com  com       84535   165377   \n",
       "97          98       68              imdb.com  com       84275   218180   \n",
       "98          99       69         bloomberg.com  com       84239   196751   \n",
       "99         100        1           harvard.edu  edu       84049   193996   \n",
       "\n",
       "              IDN_Domain IDN_TLD  PrevGlobalRank  PrevTldRank  PrevRefSubNets  \\\n",
       "0             google.com     com               1            1          492684   \n",
       "1           facebook.com     com               2            2          491669   \n",
       "2            youtube.com     com               3            3          443324   \n",
       "3            twitter.com     com               4            4          437045   \n",
       "4          instagram.com     com               5            5          375337   \n",
       "..                   ...     ...             ...          ...             ...   \n",
       "95  youtube-nocookie.com     com              97           67           84689   \n",
       "96             nginx.com     com              98           68           84405   \n",
       "97              imdb.com     com              99           69           84297   \n",
       "98         bloomberg.com     com             100           70           84164   \n",
       "99           harvard.edu     edu             101            1           84006   \n",
       "\n",
       "    PrevRefIPs  \n",
       "0      2421905  \n",
       "1      2574466  \n",
       "2      2088013  \n",
       "3      2071411  \n",
       "4      1733107  \n",
       "..         ...  \n",
       "95      208896  \n",
       "96      165050  \n",
       "97      218127  \n",
       "98      196873  \n",
       "99      194097  \n",
       "\n",
       "[100 rows x 12 columns]>"
      ]
     },
     "execution_count": 8,
     "metadata": {},
     "output_type": "execute_result"
    }
   ],
   "source": [
    "df3 = pd.read_csv('majestic_million.csv')\n",
    "df4 = df3.head(100)\n",
    "df4.info"
   ]
  },
  {
   "cell_type": "code",
   "execution_count": 10,
   "id": "efa28f40",
   "metadata": {},
   "outputs": [
    {
     "data": {
      "text/plain": [
       "<bound method DataFrame.info of              1             google.com\n",
       "729048  729050          treeumapp.net\n",
       "798747  798749             knaki.club\n",
       "164339  164341  thehousedesigners.com\n",
       "987183  987185             fanteko.ru\n",
       "181501  181503          snowcrows.com\n",
       "...        ...                    ...\n",
       "9821      9823                  dn.se\n",
       "585393  585395          exposecms.com\n",
       "980019  980021          yeaosound.com\n",
       "108643  108645  hotelnewsresource.com\n",
       "32799    32801          tenorshare.cn\n",
       "\n",
       "[100 rows x 2 columns]>"
      ]
     },
     "execution_count": 10,
     "metadata": {},
     "output_type": "execute_result"
    }
   ],
   "source": [
    "df5 = pd.read_csv('PhishTank-online-banking-phishing-urls-final.csv')\n",
    "df6 = df.sample(100)\n",
    "df6.info"
   ]
  },
  {
   "cell_type": "code",
   "execution_count": 11,
   "id": "a0afcaed",
   "metadata": {},
   "outputs": [
    {
     "data": {
      "text/plain": [
       "<bound method DataFrame.info of       1     google.com\n",
       "0     2   facebook.com\n",
       "1     3   a-msedge.net\n",
       "2     4    youtube.com\n",
       "3     5  microsoft.com\n",
       "4     6  amazonaws.com\n",
       "..  ...            ...\n",
       "95   97       ebay.com\n",
       "96   98  google.com.hk\n",
       "97   99    nytimes.com\n",
       "98  100     fandom.com\n",
       "99  101    dropbox.com\n",
       "\n",
       "[100 rows x 2 columns]>"
      ]
     },
     "execution_count": 11,
     "metadata": {},
     "output_type": "execute_result"
    }
   ],
   "source": [
    "df7 = pd.read_csv('c2-allmasterlist-high.txt')\n",
    "df8 = df.head(100)\n",
    "df8.info"
   ]
  },
  {
   "cell_type": "code",
   "execution_count": null,
   "id": "92563778",
   "metadata": {},
   "outputs": [],
   "source": []
  }
 ],
 "metadata": {
  "kernelspec": {
   "display_name": "Python 3 (ipykernel)",
   "language": "python",
   "name": "python3"
  },
  "language_info": {
   "codemirror_mode": {
    "name": "ipython",
    "version": 3
   },
   "file_extension": ".py",
   "mimetype": "text/x-python",
   "name": "python",
   "nbconvert_exporter": "python",
   "pygments_lexer": "ipython3",
   "version": "3.9.13"
  }
 },
 "nbformat": 4,
 "nbformat_minor": 5
}
